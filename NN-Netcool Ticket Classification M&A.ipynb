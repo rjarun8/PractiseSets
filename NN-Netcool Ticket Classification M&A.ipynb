{
  "nbformat": 4,
  "nbformat_minor": 0,
  "metadata": {
    "colab": {
      "name": "Untitled15.ipynb",
      "provenance": [],
      "toc_visible": true,
      "authorship_tag": "ABX9TyP4n6CvkFkHsY+8ZAkBRcqy",
      "include_colab_link": true
    },
    "kernelspec": {
      "name": "python3",
      "display_name": "Python 3"
    }
  },
  "cells": [
    {
      "cell_type": "markdown",
      "metadata": {
        "id": "view-in-github",
        "colab_type": "text"
      },
      "source": [
        "<a href=\"https://colab.research.google.com/github/rjarun8/PractiseSets/blob/master/NN-Netcool%20Ticket%20Classification%20M%26A.ipynb\" target=\"_parent\"><img src=\"https://colab.research.google.com/assets/colab-badge.svg\" alt=\"Open In Colab\"/></a>"
      ]
    },
    {
      "cell_type": "code",
      "metadata": {
        "id": "myRVUNjhiFNH",
        "colab_type": "code",
        "colab": {
          "base_uri": "https://localhost:8080/",
          "height": 17
        },
        "outputId": "728a95bc-455c-4c1a-e8a7-006af2e90d6f"
      },
      "source": [
        "import keras \n",
        "import numpy as np\n",
        "from keras.preprocessing.text import Tokenizer\n",
        "import numpy as np\n",
        "import pandas as pd\n",
        "from keras.models import Sequential\n",
        "from keras.layers import Dense\n",
        "from keras.preprocessing.sequence import pad_sequences\n",
        "from keras.layers import Input, Dense, Dropout, Embedding, LSTM, Flatten\n",
        "from keras.models import Model\n",
        "from keras.utils import to_categorical\n",
        "from keras.callbacks import ModelCheckpoint\n",
        "import seaborn as sns\n",
        "import matplotlib.pyplot as plt\n",
        "from sklearn.model_selection import train_test_split\n",
        "from sklearn.metrics import accuracy_score\n",
        "plt.style.use('ggplot')\n",
        "%matplotlib inline\n",
        "from IPython.core.display import display, HTML\n",
        "display(HTML(\"<style>.container { width:100% !important; }</style>\"))\n",
        "from string import punctuation\n",
        "from sklearn.preprocessing import LabelEncoder\n",
        "import pickle\n",
        "from keras.models import Sequential\n",
        "from keras import layers\n",
        "import tensorflow as tf\n",
        "from keras import utils"
      ],
      "execution_count": 96,
      "outputs": [
        {
          "output_type": "display_data",
          "data": {
            "text/html": [
              "<style>.container { width:100% !important; }</style>"
            ],
            "text/plain": [
              "<IPython.core.display.HTML object>"
            ]
          },
          "metadata": {
            "tags": []
          }
        }
      ]
    },
    {
      "cell_type": "code",
      "metadata": {
        "id": "hirbfZFLidrX",
        "colab_type": "code",
        "colab": {
          "base_uri": "https://localhost:8080/",
          "height": 140
        },
        "outputId": "6c7b2190-2dac-43e1-da26-aa7afcde1a55"
      },
      "source": [
        "import nltk \n",
        "nltk.download('punkt')\n",
        "nltk.download('wordnet')\n",
        "nltk.download('stopwords')"
      ],
      "execution_count": 47,
      "outputs": [
        {
          "output_type": "stream",
          "text": [
            "[nltk_data] Downloading package punkt to /root/nltk_data...\n",
            "[nltk_data]   Package punkt is already up-to-date!\n",
            "[nltk_data] Downloading package wordnet to /root/nltk_data...\n",
            "[nltk_data]   Package wordnet is already up-to-date!\n",
            "[nltk_data] Downloading package stopwords to /root/nltk_data...\n",
            "[nltk_data]   Package stopwords is already up-to-date!\n"
          ],
          "name": "stdout"
        },
        {
          "output_type": "execute_result",
          "data": {
            "text/plain": [
              "True"
            ]
          },
          "metadata": {
            "tags": []
          },
          "execution_count": 47
        }
      ]
    },
    {
      "cell_type": "code",
      "metadata": {
        "id": "tn3GsIwujJPo",
        "colab_type": "code",
        "colab": {}
      },
      "source": [
        "df=pd.read_excel('/content/netcool_inc_dump.xlsx')"
      ],
      "execution_count": 0,
      "outputs": []
    },
    {
      "cell_type": "code",
      "metadata": {
        "id": "LkDfNAl6jbB2",
        "colab_type": "code",
        "colab": {}
      },
      "source": [
        "df = df.drop(['Month', 'Incident ID', 'Impact', 'Urgency', 'Priority',\n",
        "        'Goal Time Hour', 'Priority Goaltime', 'Status', 'Assigned Support Organization',\n",
        "        'Function','Reported Date', 'Submit Date', 'Restored Date', 'Last Resolved Date','TTR',\n",
        "        'SLA1', 'SLA2', 'Resolved By',\n",
        "       'Operational  Categorization Tier 1',\n",
        "       'Operational  Categorization Tier 2',\n",
        "       'Operational  Categorization Tier 3', 'Product Categorization Tier 1',\n",
        "       'Product Categorization Tier 2', 'Product Categorization Tier 3',\n",
        "       'Resolution Category Tier 1', 'Resolution Category Tier 2',\n",
        "       'Resolution Category Tier 3',],axis=1)"
      ],
      "execution_count": 0,
      "outputs": []
    },
    {
      "cell_type": "code",
      "metadata": {
        "id": "l1aaX8Ktjfdt",
        "colab_type": "code",
        "colab": {
          "base_uri": "https://localhost:8080/",
          "height": 402
        },
        "outputId": "169a5884-a8a8-4923-a19d-1123dd992e4c"
      },
      "source": [
        "df"
      ],
      "execution_count": 50,
      "outputs": [
        {
          "output_type": "execute_result",
          "data": {
            "text/html": [
              "<div>\n",
              "<style scoped>\n",
              "    .dataframe tbody tr th:only-of-type {\n",
              "        vertical-align: middle;\n",
              "    }\n",
              "\n",
              "    .dataframe tbody tr th {\n",
              "        vertical-align: top;\n",
              "    }\n",
              "\n",
              "    .dataframe thead th {\n",
              "        text-align: right;\n",
              "    }\n",
              "</style>\n",
              "<table border=\"1\" class=\"dataframe\">\n",
              "  <thead>\n",
              "    <tr style=\"text-align: right;\">\n",
              "      <th></th>\n",
              "      <th>Assigned Group</th>\n",
              "      <th>Summary</th>\n",
              "      <th>CI Name</th>\n",
              "    </tr>\n",
              "  </thead>\n",
              "  <tbody>\n",
              "    <tr>\n",
              "      <th>0</th>\n",
              "      <td>Wintel Server Applications</td>\n",
              "      <td>Lync : Out of Office Issue</td>\n",
              "      <td>outlook exchange e mail</td>\n",
              "    </tr>\n",
              "    <tr>\n",
              "      <th>1</th>\n",
              "      <td>Citrix Server Support</td>\n",
              "      <td>(MPOWER) Multiple User Incident</td>\n",
              "      <td>ukmlwctx128:uk.pri.o2.com</td>\n",
              "    </tr>\n",
              "    <tr>\n",
              "      <th>2</th>\n",
              "      <td>Wintel Server Support</td>\n",
              "      <td>Outlook Archive Lost</td>\n",
              "      <td>outlook mail service</td>\n",
              "    </tr>\n",
              "    <tr>\n",
              "      <th>3</th>\n",
              "      <td>Wintel Server Support</td>\n",
              "      <td>HP Windows (SNMP) External Array Controller de...</td>\n",
              "      <td>uksthsqlcl001a.uk.pri.o2.com</td>\n",
              "    </tr>\n",
              "    <tr>\n",
              "      <th>4</th>\n",
              "      <td>Online Unix Support (ITCC Unix)</td>\n",
              "      <td>Clear mail queues in the given list of servers.</td>\n",
              "      <td>verthandi.london.02.net</td>\n",
              "    </tr>\n",
              "    <tr>\n",
              "      <th>...</th>\n",
              "      <td>...</td>\n",
              "      <td>...</td>\n",
              "      <td>...</td>\n",
              "    </tr>\n",
              "    <tr>\n",
              "      <th>9600</th>\n",
              "      <td>Online Unix Support (ITCC Unix)</td>\n",
              "      <td>Alert : SPAMMER</td>\n",
              "      <td>varnish1</td>\n",
              "    </tr>\n",
              "    <tr>\n",
              "      <th>9601</th>\n",
              "      <td>Database Support</td>\n",
              "      <td>Usage of the filesystem /opt/oracle is 90% and...</td>\n",
              "      <td>cnmlw-bl860c-13</td>\n",
              "    </tr>\n",
              "    <tr>\n",
              "      <th>9602</th>\n",
              "      <td>Backup Support</td>\n",
              "      <td>Cams backup failure opcom in ccdbmanager.</td>\n",
              "      <td>mnbas-bl860c-17</td>\n",
              "    </tr>\n",
              "    <tr>\n",
              "      <th>9603</th>\n",
              "      <td>Managed File Transfer Support</td>\n",
              "      <td>MFT - Transfer Error</td>\n",
              "      <td>mnmlw-esxvm-293</td>\n",
              "    </tr>\n",
              "    <tr>\n",
              "      <th>9604</th>\n",
              "      <td>Managed File Transfer Support</td>\n",
              "      <td>SMFT PRODUCTION ISSUE</td>\n",
              "      <td>dmbas-esxvm-182</td>\n",
              "    </tr>\n",
              "  </tbody>\n",
              "</table>\n",
              "<p>9605 rows × 3 columns</p>\n",
              "</div>"
            ],
            "text/plain": [
              "                       Assigned Group  ...                       CI Name\n",
              "0          Wintel Server Applications  ...       outlook exchange e mail\n",
              "1               Citrix Server Support  ...     ukmlwctx128:uk.pri.o2.com\n",
              "2               Wintel Server Support  ...          outlook mail service\n",
              "3               Wintel Server Support  ...  uksthsqlcl001a.uk.pri.o2.com\n",
              "4     Online Unix Support (ITCC Unix)  ...       verthandi.london.02.net\n",
              "...                               ...  ...                           ...\n",
              "9600  Online Unix Support (ITCC Unix)  ...                      varnish1\n",
              "9601                 Database Support  ...               cnmlw-bl860c-13\n",
              "9602                   Backup Support  ...               mnbas-bl860c-17\n",
              "9603    Managed File Transfer Support  ...               mnmlw-esxvm-293\n",
              "9604    Managed File Transfer Support  ...               dmbas-esxvm-182\n",
              "\n",
              "[9605 rows x 3 columns]"
            ]
          },
          "metadata": {
            "tags": []
          },
          "execution_count": 50
        }
      ]
    },
    {
      "cell_type": "code",
      "metadata": {
        "id": "kVrtD8CXjgPm",
        "colab_type": "code",
        "colab": {}
      },
      "source": [
        "df.columns = map(str.lower, df.columns)\n",
        "df = df.apply(lambda x: x.astype(str).str.lower())\n",
        "cols=df.columns\n",
        "df.loc[:, cols] = df[cols].apply(lambda s: s.str.replace(rf'[{punctuation}]', ''))"
      ],
      "execution_count": 0,
      "outputs": []
    },
    {
      "cell_type": "code",
      "metadata": {
        "id": "tdXCbADejjCN",
        "colab_type": "code",
        "colab": {}
      },
      "source": [
        "df.rename(columns={\"assigned group\": \"assigned_group\", \"ci name\": \"ci_name\"}, inplace=True)\n"
      ],
      "execution_count": 0,
      "outputs": []
    },
    {
      "cell_type": "code",
      "metadata": {
        "id": "7XcN7c4zkCao",
        "colab_type": "code",
        "colab": {
          "base_uri": "https://localhost:8080/",
          "height": 246
        },
        "outputId": "67cefff5-2827-4f58-a9e6-7cc3c25c01ad"
      },
      "source": [
        "df['assigned_group'].unique()"
      ],
      "execution_count": 53,
      "outputs": [
        {
          "output_type": "execute_result",
          "data": {
            "text/plain": [
              "array(['wintel server applications', 'citrix server support',\n",
              "       'wintel server support', 'online unix support itcc unix',\n",
              "       'storage support', 'it platforms support', 'database support',\n",
              "       'backup support', 'unix support', 'managed file transfer support',\n",
              "       'ibm power systems operations l1',\n",
              "       'mobile number reuse support mnr',\n",
              "       'external mipay it infrastructure use only',\n",
              "       'ibm power systems support l2', 'wholesale operations',\n",
              "       'online operations itcc services',\n",
              "       'external hp it infrastructure use only',\n",
              "       'external equifax it infrastructure use only',\n",
              "       'external experian it infrastructure use only',\n",
              "       'professional services'], dtype=object)"
            ]
          },
          "metadata": {
            "tags": []
          },
          "execution_count": 53
        }
      ]
    },
    {
      "cell_type": "code",
      "metadata": {
        "id": "kevFz23ZjvDU",
        "colab_type": "code",
        "colab": {}
      },
      "source": [
        "asg_dict={'wintel server applications':'wsa', 'citrix server support':'css',\n",
        "       'wintel server support':'wss', 'online unix support itcc unix':'ous',\n",
        "       'storage support':'ss', 'it platforms support':'ips', 'database support':'ds',\n",
        "       'backup support':'bs', 'unix support':'us', 'managed file transfer support':'mfts',\n",
        "       'ibm power systems operations l1':'ipso',\n",
        "       'mobile number reuse support mnr':'mnrs',\n",
        "       'external mipay it infrastructure use only':'em',\n",
        "       'ibm power systems support l2':'ipsl2', 'wholesale operations':'wo',\n",
        "       'online operations itcc services':'oo',\n",
        "       'external hp it infrastructure use only':'ehp',\n",
        "       'external equifax it infrastructure use only':'eeq',\n",
        "       'external experian it infrastructure use only':'eei',\n",
        "       'professional services':'ps'}"
      ],
      "execution_count": 0,
      "outputs": []
    },
    {
      "cell_type": "code",
      "metadata": {
        "id": "5_71tn2qj5fe",
        "colab_type": "code",
        "colab": {}
      },
      "source": [
        "df['ag_code'] = df['assigned_group'].apply(lambda x: asg_dict[x.lower()])"
      ],
      "execution_count": 0,
      "outputs": []
    },
    {
      "cell_type": "code",
      "metadata": {
        "id": "yO_6R65Gj7OF",
        "colab_type": "code",
        "colab": {
          "base_uri": "https://localhost:8080/",
          "height": 402
        },
        "outputId": "dc58ab32-7157-4da1-d038-8ebf57a835fe"
      },
      "source": [
        "df"
      ],
      "execution_count": 56,
      "outputs": [
        {
          "output_type": "execute_result",
          "data": {
            "text/html": [
              "<div>\n",
              "<style scoped>\n",
              "    .dataframe tbody tr th:only-of-type {\n",
              "        vertical-align: middle;\n",
              "    }\n",
              "\n",
              "    .dataframe tbody tr th {\n",
              "        vertical-align: top;\n",
              "    }\n",
              "\n",
              "    .dataframe thead th {\n",
              "        text-align: right;\n",
              "    }\n",
              "</style>\n",
              "<table border=\"1\" class=\"dataframe\">\n",
              "  <thead>\n",
              "    <tr style=\"text-align: right;\">\n",
              "      <th></th>\n",
              "      <th>assigned_group</th>\n",
              "      <th>summary</th>\n",
              "      <th>ci_name</th>\n",
              "      <th>ag_code</th>\n",
              "    </tr>\n",
              "  </thead>\n",
              "  <tbody>\n",
              "    <tr>\n",
              "      <th>0</th>\n",
              "      <td>wintel server applications</td>\n",
              "      <td>lync  out of office issue</td>\n",
              "      <td>outlook exchange e mail</td>\n",
              "      <td>wsa</td>\n",
              "    </tr>\n",
              "    <tr>\n",
              "      <th>1</th>\n",
              "      <td>citrix server support</td>\n",
              "      <td>mpower multiple user incident</td>\n",
              "      <td>ukmlwctx128ukprio2com</td>\n",
              "      <td>css</td>\n",
              "    </tr>\n",
              "    <tr>\n",
              "      <th>2</th>\n",
              "      <td>wintel server support</td>\n",
              "      <td>outlook archive lost</td>\n",
              "      <td>outlook mail service</td>\n",
              "      <td>wss</td>\n",
              "    </tr>\n",
              "    <tr>\n",
              "      <th>3</th>\n",
              "      <td>wintel server support</td>\n",
              "      <td>hp windows snmp external array controller degr...</td>\n",
              "      <td>uksthsqlcl001aukprio2com</td>\n",
              "      <td>wss</td>\n",
              "    </tr>\n",
              "    <tr>\n",
              "      <th>4</th>\n",
              "      <td>online unix support itcc unix</td>\n",
              "      <td>clear mail queues in the given list of servers</td>\n",
              "      <td>verthandilondon02net</td>\n",
              "      <td>ous</td>\n",
              "    </tr>\n",
              "    <tr>\n",
              "      <th>...</th>\n",
              "      <td>...</td>\n",
              "      <td>...</td>\n",
              "      <td>...</td>\n",
              "      <td>...</td>\n",
              "    </tr>\n",
              "    <tr>\n",
              "      <th>9600</th>\n",
              "      <td>online unix support itcc unix</td>\n",
              "      <td>alert  spammer</td>\n",
              "      <td>varnish1</td>\n",
              "      <td>ous</td>\n",
              "    </tr>\n",
              "    <tr>\n",
              "      <th>9601</th>\n",
              "      <td>database support</td>\n",
              "      <td>usage of the filesystem optoracle is 90 and ha...</td>\n",
              "      <td>cnmlwbl860c13</td>\n",
              "      <td>ds</td>\n",
              "    </tr>\n",
              "    <tr>\n",
              "      <th>9602</th>\n",
              "      <td>backup support</td>\n",
              "      <td>cams backup failure opcom in ccdbmanager</td>\n",
              "      <td>mnbasbl860c17</td>\n",
              "      <td>bs</td>\n",
              "    </tr>\n",
              "    <tr>\n",
              "      <th>9603</th>\n",
              "      <td>managed file transfer support</td>\n",
              "      <td>mft  transfer error</td>\n",
              "      <td>mnmlwesxvm293</td>\n",
              "      <td>mfts</td>\n",
              "    </tr>\n",
              "    <tr>\n",
              "      <th>9604</th>\n",
              "      <td>managed file transfer support</td>\n",
              "      <td>smft production issue</td>\n",
              "      <td>dmbasesxvm182</td>\n",
              "      <td>mfts</td>\n",
              "    </tr>\n",
              "  </tbody>\n",
              "</table>\n",
              "<p>9605 rows × 4 columns</p>\n",
              "</div>"
            ],
            "text/plain": [
              "                     assigned_group  ... ag_code\n",
              "0        wintel server applications  ...     wsa\n",
              "1             citrix server support  ...     css\n",
              "2             wintel server support  ...     wss\n",
              "3             wintel server support  ...     wss\n",
              "4     online unix support itcc unix  ...     ous\n",
              "...                             ...  ...     ...\n",
              "9600  online unix support itcc unix  ...     ous\n",
              "9601               database support  ...      ds\n",
              "9602                 backup support  ...      bs\n",
              "9603  managed file transfer support  ...    mfts\n",
              "9604  managed file transfer support  ...    mfts\n",
              "\n",
              "[9605 rows x 4 columns]"
            ]
          },
          "metadata": {
            "tags": []
          },
          "execution_count": 56
        }
      ]
    },
    {
      "cell_type": "code",
      "metadata": {
        "id": "5ubVEk-qmL7v",
        "colab_type": "code",
        "colab": {}
      },
      "source": [
        "\n",
        "# generating pkl file for assignemntgroup and ciname\n",
        "\n",
        "le = LabelEncoder()\n",
        "encoded_dataframe=pd.DataFrame()\n",
        "cat_var=['ci_name','assigned_group']\n",
        "df_new = pd.DataFrame(columns=cat_var)\n",
        "for cat in cat_var:\n",
        "    pkl_Filename=cat+'.pkl'\n",
        "    encoder=le.fit(df[cat].astype(str))\n",
        "    with open(pkl_Filename, 'wb') as file:\n",
        "        pickle.dump(encoder, file)"
      ],
      "execution_count": 0,
      "outputs": []
    },
    {
      "cell_type": "code",
      "metadata": {
        "id": "rsZrIwuao1sD",
        "colab_type": "code",
        "colab": {}
      },
      "source": [
        "cat_var=['ci_name','assigned_group']\n",
        "for cat in cat_var:\n",
        "    pkl = pd.read_pickle(cat+'.pkl')\n",
        "    df[cat] = pkl.transform(df[cat].astype(str))"
      ],
      "execution_count": 0,
      "outputs": []
    },
    {
      "cell_type": "code",
      "metadata": {
        "id": "IpH4RgmcpIJe",
        "colab_type": "code",
        "colab": {}
      },
      "source": [
        "df['ag_code'] = df.ag_code.astype('category').cat.codes"
      ],
      "execution_count": 0,
      "outputs": []
    },
    {
      "cell_type": "code",
      "metadata": {
        "id": "MK_v73UJpJHm",
        "colab_type": "code",
        "colab": {}
      },
      "source": [
        "df['num_words'] = df.summary.apply(lambda x : len(x.split()))"
      ],
      "execution_count": 0,
      "outputs": []
    },
    {
      "cell_type": "code",
      "metadata": {
        "id": "sjKdVFAhprAc",
        "colab_type": "code",
        "colab": {
          "base_uri": "https://localhost:8080/",
          "height": 52
        },
        "outputId": "4c29da08-b60f-4de3-c844-c4326de65ec2"
      },
      "source": [
        "df['num_words'].unique()"
      ],
      "execution_count": 64,
      "outputs": [
        {
          "output_type": "execute_result",
          "data": {
            "text/plain": [
              "array([ 5,  4,  3, 10,  9,  2,  7,  6, 13,  8, 11, 14, 12,  1, 16, 15, 17,\n",
              "       18, 19, 20])"
            ]
          },
          "metadata": {
            "tags": []
          },
          "execution_count": 64
        }
      ]
    },
    {
      "cell_type": "code",
      "metadata": {
        "id": "RTFJofW5p8RT",
        "colab_type": "code",
        "colab": {}
      },
      "source": [
        "df['bins']=pd.cut(df.num_words, bins=[0,5,10,15,20, np.inf], labels=['5', '10', '15','20' ,'25'])"
      ],
      "execution_count": 0,
      "outputs": []
    },
    {
      "cell_type": "code",
      "metadata": {
        "id": "bPOlWM6cqzj_",
        "colab_type": "code",
        "colab": {
          "base_uri": "https://localhost:8080/",
          "height": 402
        },
        "outputId": "c889b883-285f-42c5-be32-fd506f9ddc80"
      },
      "source": [
        "df"
      ],
      "execution_count": 102,
      "outputs": [
        {
          "output_type": "execute_result",
          "data": {
            "text/html": [
              "<div>\n",
              "<style scoped>\n",
              "    .dataframe tbody tr th:only-of-type {\n",
              "        vertical-align: middle;\n",
              "    }\n",
              "\n",
              "    .dataframe tbody tr th {\n",
              "        vertical-align: top;\n",
              "    }\n",
              "\n",
              "    .dataframe thead th {\n",
              "        text-align: right;\n",
              "    }\n",
              "</style>\n",
              "<table border=\"1\" class=\"dataframe\">\n",
              "  <thead>\n",
              "    <tr style=\"text-align: right;\">\n",
              "      <th></th>\n",
              "      <th>assigned_group</th>\n",
              "      <th>summary</th>\n",
              "      <th>ci_name</th>\n",
              "      <th>ag_code</th>\n",
              "      <th>num_words</th>\n",
              "      <th>bins</th>\n",
              "    </tr>\n",
              "  </thead>\n",
              "  <tbody>\n",
              "    <tr>\n",
              "      <th>0</th>\n",
              "      <td>18</td>\n",
              "      <td>lync office issue</td>\n",
              "      <td>1168</td>\n",
              "      <td>18</td>\n",
              "      <td>5</td>\n",
              "      <td>5</td>\n",
              "    </tr>\n",
              "    <tr>\n",
              "      <th>1</th>\n",
              "      <td>1</td>\n",
              "      <td>mpower multiple user incident</td>\n",
              "      <td>1477</td>\n",
              "      <td>1</td>\n",
              "      <td>4</td>\n",
              "      <td>5</td>\n",
              "    </tr>\n",
              "    <tr>\n",
              "      <th>2</th>\n",
              "      <td>19</td>\n",
              "      <td>outlook archive lost</td>\n",
              "      <td>1169</td>\n",
              "      <td>19</td>\n",
              "      <td>3</td>\n",
              "      <td>5</td>\n",
              "    </tr>\n",
              "    <tr>\n",
              "      <th>3</th>\n",
              "      <td>19</td>\n",
              "      <td>hp window snmp external array controller degra...</td>\n",
              "      <td>1749</td>\n",
              "      <td>19</td>\n",
              "      <td>10</td>\n",
              "      <td>10</td>\n",
              "    </tr>\n",
              "    <tr>\n",
              "      <th>4</th>\n",
              "      <td>13</td>\n",
              "      <td>clear mail queue given list server</td>\n",
              "      <td>1790</td>\n",
              "      <td>13</td>\n",
              "      <td>9</td>\n",
              "      <td>10</td>\n",
              "    </tr>\n",
              "    <tr>\n",
              "      <th>...</th>\n",
              "      <td>...</td>\n",
              "      <td>...</td>\n",
              "      <td>...</td>\n",
              "      <td>...</td>\n",
              "      <td>...</td>\n",
              "      <td>...</td>\n",
              "    </tr>\n",
              "    <tr>\n",
              "      <th>9600</th>\n",
              "      <td>13</td>\n",
              "      <td>alert spammer</td>\n",
              "      <td>1779</td>\n",
              "      <td>13</td>\n",
              "      <td>2</td>\n",
              "      <td>5</td>\n",
              "    </tr>\n",
              "    <tr>\n",
              "      <th>9601</th>\n",
              "      <td>2</td>\n",
              "      <td>usage filesystem optoracle 90 exceeded defined...</td>\n",
              "      <td>280</td>\n",
              "      <td>2</td>\n",
              "      <td>13</td>\n",
              "      <td>15</td>\n",
              "    </tr>\n",
              "    <tr>\n",
              "      <th>9602</th>\n",
              "      <td>0</td>\n",
              "      <td>cam backup failure opcom ccdbmanager</td>\n",
              "      <td>890</td>\n",
              "      <td>0</td>\n",
              "      <td>6</td>\n",
              "      <td>10</td>\n",
              "    </tr>\n",
              "    <tr>\n",
              "      <th>9603</th>\n",
              "      <td>10</td>\n",
              "      <td>mft transfer error</td>\n",
              "      <td>1004</td>\n",
              "      <td>10</td>\n",
              "      <td>3</td>\n",
              "      <td>5</td>\n",
              "    </tr>\n",
              "    <tr>\n",
              "      <th>9604</th>\n",
              "      <td>10</td>\n",
              "      <td>smft production issue</td>\n",
              "      <td>473</td>\n",
              "      <td>10</td>\n",
              "      <td>3</td>\n",
              "      <td>5</td>\n",
              "    </tr>\n",
              "  </tbody>\n",
              "</table>\n",
              "<p>9605 rows × 6 columns</p>\n",
              "</div>"
            ],
            "text/plain": [
              "      assigned_group  ... bins\n",
              "0                 18  ...    5\n",
              "1                  1  ...    5\n",
              "2                 19  ...    5\n",
              "3                 19  ...   10\n",
              "4                 13  ...   10\n",
              "...              ...  ...  ...\n",
              "9600              13  ...    5\n",
              "9601               2  ...   15\n",
              "9602               0  ...   10\n",
              "9603              10  ...    5\n",
              "9604              10  ...    5\n",
              "\n",
              "[9605 rows x 6 columns]"
            ]
          },
          "metadata": {
            "tags": []
          },
          "execution_count": 102
        }
      ]
    },
    {
      "cell_type": "code",
      "metadata": {
        "id": "huFxhjQbq48B",
        "colab_type": "code",
        "colab": {}
      },
      "source": [
        "word_distribution = df.groupby('bins').size().reset_index().rename(columns={0:'counts'})"
      ],
      "execution_count": 0,
      "outputs": []
    },
    {
      "cell_type": "code",
      "metadata": {
        "id": "JgoKTT79rCqk",
        "colab_type": "code",
        "colab": {
          "base_uri": "https://localhost:8080/",
          "height": 195
        },
        "outputId": "1710aebc-488a-4c3a-bd57-bb2b16d44542"
      },
      "source": [
        "word_distribution.head()"
      ],
      "execution_count": 104,
      "outputs": [
        {
          "output_type": "execute_result",
          "data": {
            "text/html": [
              "<div>\n",
              "<style scoped>\n",
              "    .dataframe tbody tr th:only-of-type {\n",
              "        vertical-align: middle;\n",
              "    }\n",
              "\n",
              "    .dataframe tbody tr th {\n",
              "        vertical-align: top;\n",
              "    }\n",
              "\n",
              "    .dataframe thead th {\n",
              "        text-align: right;\n",
              "    }\n",
              "</style>\n",
              "<table border=\"1\" class=\"dataframe\">\n",
              "  <thead>\n",
              "    <tr style=\"text-align: right;\">\n",
              "      <th></th>\n",
              "      <th>bins</th>\n",
              "      <th>counts</th>\n",
              "    </tr>\n",
              "  </thead>\n",
              "  <tbody>\n",
              "    <tr>\n",
              "      <th>0</th>\n",
              "      <td>5</td>\n",
              "      <td>3815</td>\n",
              "    </tr>\n",
              "    <tr>\n",
              "      <th>1</th>\n",
              "      <td>10</td>\n",
              "      <td>3958</td>\n",
              "    </tr>\n",
              "    <tr>\n",
              "      <th>2</th>\n",
              "      <td>15</td>\n",
              "      <td>1720</td>\n",
              "    </tr>\n",
              "    <tr>\n",
              "      <th>3</th>\n",
              "      <td>20</td>\n",
              "      <td>112</td>\n",
              "    </tr>\n",
              "    <tr>\n",
              "      <th>4</th>\n",
              "      <td>25</td>\n",
              "      <td>0</td>\n",
              "    </tr>\n",
              "  </tbody>\n",
              "</table>\n",
              "</div>"
            ],
            "text/plain": [
              "  bins  counts\n",
              "0    5    3815\n",
              "1   10    3958\n",
              "2   15    1720\n",
              "3   20     112\n",
              "4   25       0"
            ]
          },
          "metadata": {
            "tags": []
          },
          "execution_count": 104
        }
      ]
    },
    {
      "cell_type": "code",
      "metadata": {
        "id": "hsH5_9pGrFHl",
        "colab_type": "code",
        "colab": {
          "base_uri": "https://localhost:8080/",
          "height": 317
        },
        "outputId": "6f1fd3f2-e606-48b7-966d-b6562bebb30c"
      },
      "source": [
        "sns.barplot(x='bins', y='counts', data=word_distribution).set_title(\"Word distribution per bin\")"
      ],
      "execution_count": 105,
      "outputs": [
        {
          "output_type": "execute_result",
          "data": {
            "text/plain": [
              "Text(0.5, 1.0, 'Word distribution per bin')"
            ]
          },
          "metadata": {
            "tags": []
          },
          "execution_count": 105
        },
        {
          "output_type": "display_data",
          "data": {
            "image/png": "[encoded data removed]",
            "text/plain": [
              "<Figure size 432x288 with 1 Axes>"
            ]
          },
          "metadata": {
            "tags": []
          }
        }
      ]
    },
    {
      "cell_type": "code",
      "metadata": {
        "id": "-7-D9ZjjrJfb",
        "colab_type": "code",
        "colab": {
          "base_uri": "https://localhost:8080/",
          "height": 195
        },
        "outputId": "d92fda7d-fa23-46db-b7ba-d5ea7e31cbbc"
      },
      "source": [
        "df.head()"
      ],
      "execution_count": 106,
      "outputs": [
        {
          "output_type": "execute_result",
          "data": {
            "text/html": [
              "<div>\n",
              "<style scoped>\n",
              "    .dataframe tbody tr th:only-of-type {\n",
              "        vertical-align: middle;\n",
              "    }\n",
              "\n",
              "    .dataframe tbody tr th {\n",
              "        vertical-align: top;\n",
              "    }\n",
              "\n",
              "    .dataframe thead th {\n",
              "        text-align: right;\n",
              "    }\n",
              "</style>\n",
              "<table border=\"1\" class=\"dataframe\">\n",
              "  <thead>\n",
              "    <tr style=\"text-align: right;\">\n",
              "      <th></th>\n",
              "      <th>assigned_group</th>\n",
              "      <th>summary</th>\n",
              "      <th>ci_name</th>\n",
              "      <th>ag_code</th>\n",
              "      <th>num_words</th>\n",
              "      <th>bins</th>\n",
              "    </tr>\n",
              "  </thead>\n",
              "  <tbody>\n",
              "    <tr>\n",
              "      <th>0</th>\n",
              "      <td>18</td>\n",
              "      <td>lync office issue</td>\n",
              "      <td>1168</td>\n",
              "      <td>18</td>\n",
              "      <td>5</td>\n",
              "      <td>5</td>\n",
              "    </tr>\n",
              "    <tr>\n",
              "      <th>1</th>\n",
              "      <td>1</td>\n",
              "      <td>mpower multiple user incident</td>\n",
              "      <td>1477</td>\n",
              "      <td>1</td>\n",
              "      <td>4</td>\n",
              "      <td>5</td>\n",
              "    </tr>\n",
              "    <tr>\n",
              "      <th>2</th>\n",
              "      <td>19</td>\n",
              "      <td>outlook archive lost</td>\n",
              "      <td>1169</td>\n",
              "      <td>19</td>\n",
              "      <td>3</td>\n",
              "      <td>5</td>\n",
              "    </tr>\n",
              "    <tr>\n",
              "      <th>3</th>\n",
              "      <td>19</td>\n",
              "      <td>hp window snmp external array controller degra...</td>\n",
              "      <td>1749</td>\n",
              "      <td>19</td>\n",
              "      <td>10</td>\n",
              "      <td>10</td>\n",
              "    </tr>\n",
              "    <tr>\n",
              "      <th>4</th>\n",
              "      <td>13</td>\n",
              "      <td>clear mail queue given list server</td>\n",
              "      <td>1790</td>\n",
              "      <td>13</td>\n",
              "      <td>9</td>\n",
              "      <td>10</td>\n",
              "    </tr>\n",
              "  </tbody>\n",
              "</table>\n",
              "</div>"
            ],
            "text/plain": [
              "   assigned_group  ... bins\n",
              "0              18  ...    5\n",
              "1               1  ...    5\n",
              "2              19  ...    5\n",
              "3              19  ...   10\n",
              "4              13  ...   10\n",
              "\n",
              "[5 rows x 6 columns]"
            ]
          },
          "metadata": {
            "tags": []
          },
          "execution_count": 106
        }
      ]
    },
    {
      "cell_type": "code",
      "metadata": {
        "id": "TaJurxMErMJ7",
        "colab_type": "code",
        "colab": {}
      },
      "source": [
        "num_class = len(np.unique(df.assigned_group.values))"
      ],
      "execution_count": 0,
      "outputs": []
    },
    {
      "cell_type": "code",
      "metadata": {
        "id": "7lYAUYRHrWLj",
        "colab_type": "code",
        "colab": {
          "base_uri": "https://localhost:8080/",
          "height": 34
        },
        "outputId": "7c3cfad3-a591-4338-f8e9-aff83c6c8c19"
      },
      "source": [
        "num_class"
      ],
      "execution_count": 108,
      "outputs": [
        {
          "output_type": "execute_result",
          "data": {
            "text/plain": [
              "20"
            ]
          },
          "metadata": {
            "tags": []
          },
          "execution_count": 108
        }
      ]
    },
    {
      "cell_type": "code",
      "metadata": {
        "id": "yPS7wytmrXxj",
        "colab_type": "code",
        "colab": {}
      },
      "source": [
        "y = df['assigned_group'].values"
      ],
      "execution_count": 0,
      "outputs": []
    },
    {
      "cell_type": "code",
      "metadata": {
        "id": "inqdw3JJrdWD",
        "colab_type": "code",
        "colab": {
          "base_uri": "https://localhost:8080/",
          "height": 34
        },
        "outputId": "373bf22a-db78-4507-9e5d-25f50e583208"
      },
      "source": [
        "type(y)"
      ],
      "execution_count": 110,
      "outputs": [
        {
          "output_type": "execute_result",
          "data": {
            "text/plain": [
              "numpy.ndarray"
            ]
          },
          "metadata": {
            "tags": []
          },
          "execution_count": 110
        }
      ]
    },
    {
      "cell_type": "code",
      "metadata": {
        "id": "wmX1kUGUsBbf",
        "colab_type": "code",
        "colab": {
          "base_uri": "https://localhost:8080/",
          "height": 52
        },
        "outputId": "d6d4d384-6c76-498c-e30d-0abd675c5ec6"
      },
      "source": [
        "from nltk.stem import WordNetLemmatizer\n",
        "lemmatizer=WordNetLemmatizer()\n",
        "import nltk\n",
        "# nltk.download('punkt')\n",
        "# nltk.download('wordnet')\n",
        "nltk.download('stopwords')\n",
        "from nltk.corpus import stopwords\n",
        "stop = stopwords.words('english')\n",
        "from sklearn.feature_extraction.text import TfidfVectorizer"
      ],
      "execution_count": 78,
      "outputs": [
        {
          "output_type": "stream",
          "text": [
            "[nltk_data] Downloading package stopwords to /root/nltk_data...\n",
            "[nltk_data]   Package stopwords is already up-to-date!\n"
          ],
          "name": "stdout"
        }
      ]
    },
    {
      "cell_type": "code",
      "metadata": {
        "id": "idOoiRsLrgIT",
        "colab_type": "code",
        "colab": {}
      },
      "source": [
        "def tokenize(text):\n",
        "    tokens = nltk.word_tokenize(text)\n",
        "    tokens =[w for w in tokens if not w in stop] # [w for w in\n",
        "    lemmatized_output = ' '.join([lemmatizer.lemmatize(w) for w in tokens])\n",
        "    return lemmatized_output\n",
        "#apply tokenize and lemmatize function\n",
        "df['summary']=df['summary'].apply(tokenize)"
      ],
      "execution_count": 0,
      "outputs": []
    },
    {
      "cell_type": "code",
      "metadata": {
        "id": "OsFIRB-gr57h",
        "colab_type": "code",
        "colab": {
          "base_uri": "https://localhost:8080/",
          "height": 195
        },
        "outputId": "0f52eac4-90f9-4b9b-d7b2-ed7f5b88a6d5"
      },
      "source": [
        "df.head()"
      ],
      "execution_count": 111,
      "outputs": [
        {
          "output_type": "execute_result",
          "data": {
            "text/html": [
              "<div>\n",
              "<style scoped>\n",
              "    .dataframe tbody tr th:only-of-type {\n",
              "        vertical-align: middle;\n",
              "    }\n",
              "\n",
              "    .dataframe tbody tr th {\n",
              "        vertical-align: top;\n",
              "    }\n",
              "\n",
              "    .dataframe thead th {\n",
              "        text-align: right;\n",
              "    }\n",
              "</style>\n",
              "<table border=\"1\" class=\"dataframe\">\n",
              "  <thead>\n",
              "    <tr style=\"text-align: right;\">\n",
              "      <th></th>\n",
              "      <th>assigned_group</th>\n",
              "      <th>summary</th>\n",
              "      <th>ci_name</th>\n",
              "      <th>ag_code</th>\n",
              "      <th>num_words</th>\n",
              "      <th>bins</th>\n",
              "    </tr>\n",
              "  </thead>\n",
              "  <tbody>\n",
              "    <tr>\n",
              "      <th>0</th>\n",
              "      <td>18</td>\n",
              "      <td>lync office issue</td>\n",
              "      <td>1168</td>\n",
              "      <td>18</td>\n",
              "      <td>5</td>\n",
              "      <td>5</td>\n",
              "    </tr>\n",
              "    <tr>\n",
              "      <th>1</th>\n",
              "      <td>1</td>\n",
              "      <td>mpower multiple user incident</td>\n",
              "      <td>1477</td>\n",
              "      <td>1</td>\n",
              "      <td>4</td>\n",
              "      <td>5</td>\n",
              "    </tr>\n",
              "    <tr>\n",
              "      <th>2</th>\n",
              "      <td>19</td>\n",
              "      <td>outlook archive lost</td>\n",
              "      <td>1169</td>\n",
              "      <td>19</td>\n",
              "      <td>3</td>\n",
              "      <td>5</td>\n",
              "    </tr>\n",
              "    <tr>\n",
              "      <th>3</th>\n",
              "      <td>19</td>\n",
              "      <td>hp window snmp external array controller degra...</td>\n",
              "      <td>1749</td>\n",
              "      <td>19</td>\n",
              "      <td>10</td>\n",
              "      <td>10</td>\n",
              "    </tr>\n",
              "    <tr>\n",
              "      <th>4</th>\n",
              "      <td>13</td>\n",
              "      <td>clear mail queue given list server</td>\n",
              "      <td>1790</td>\n",
              "      <td>13</td>\n",
              "      <td>9</td>\n",
              "      <td>10</td>\n",
              "    </tr>\n",
              "  </tbody>\n",
              "</table>\n",
              "</div>"
            ],
            "text/plain": [
              "   assigned_group  ... bins\n",
              "0              18  ...    5\n",
              "1               1  ...    5\n",
              "2              19  ...    5\n",
              "3              19  ...   10\n",
              "4              13  ...   10\n",
              "\n",
              "[5 rows x 6 columns]"
            ]
          },
          "metadata": {
            "tags": []
          },
          "execution_count": 111
        }
      ]
    },
    {
      "cell_type": "code",
      "metadata": {
        "id": "9553RN0JsG2E",
        "colab_type": "code",
        "colab": {}
      },
      "source": [
        "docs=df['summary'].tolist()\n",
        "tfidf_vector=TfidfVectorizer(use_idf=True,max_features=1000)\n",
        "tfidf_vectorizer_vectors=tfidf_vector.fit(docs)\n",
        "Pkl_Filename='vectorized_cti_netcool.pkl'\n",
        "with open(Pkl_Filename, 'wb') as file:  \n",
        "    pickle.dump(tfidf_vectorizer_vectors, file)"
      ],
      "execution_count": 0,
      "outputs": []
    },
    {
      "cell_type": "code",
      "metadata": {
        "id": "gSuqb9NxsStz",
        "colab_type": "code",
        "colab": {}
      },
      "source": [
        "vect=pd.read_pickle('vectorized_cti_netcool.pkl')\n",
        "docs=df['summary'].tolist()\n",
        "tfidf_vectorizer_vectors=vect.transform(docs).todense()\n",
        "colu=vect.get_feature_names()"
      ],
      "execution_count": 0,
      "outputs": []
    },
    {
      "cell_type": "code",
      "metadata": {
        "id": "PoM96lyZ0I4s",
        "colab_type": "code",
        "colab": {
          "base_uri": "https://localhost:8080/",
          "height": 34
        },
        "outputId": "77fe18d4-260f-4228-fc23-e626ee8053bb"
      },
      "source": [
        "len((vect.vocabulary_.keys()))"
      ],
      "execution_count": 139,
      "outputs": [
        {
          "output_type": "execute_result",
          "data": {
            "text/plain": [
              "1000"
            ]
          },
          "metadata": {
            "tags": []
          },
          "execution_count": 139
        }
      ]
    },
    {
      "cell_type": "code",
      "metadata": {
        "id": "GCYFGysTsUyP",
        "colab_type": "code",
        "colab": {}
      },
      "source": [
        "df1 = pd.DataFrame(tfidf_vectorizer_vectors, columns=colu)"
      ],
      "execution_count": 0,
      "outputs": []
    },
    {
      "cell_type": "code",
      "metadata": {
        "id": "iyD_RPCosWpn",
        "colab_type": "code",
        "colab": {
          "base_uri": "https://localhost:8080/",
          "height": 34
        },
        "outputId": "87a67c48-5a84-4ad6-8a97-ef7929b1b264"
      },
      "source": [
        "df.columns"
      ],
      "execution_count": 112,
      "outputs": [
        {
          "output_type": "execute_result",
          "data": {
            "text/plain": [
              "Index(['assigned_group', 'summary', 'ci_name', 'ag_code', 'num_words', 'bins'], dtype='object')"
            ]
          },
          "metadata": {
            "tags": []
          },
          "execution_count": 112
        }
      ]
    },
    {
      "cell_type": "code",
      "metadata": {
        "id": "Q-nsK3d7safM",
        "colab_type": "code",
        "colab": {}
      },
      "source": [
        "res = pd.concat([df1,df[['ci_name','ag_code','num_words','bins']]],axis=1)"
      ],
      "execution_count": 0,
      "outputs": []
    },
    {
      "cell_type": "code",
      "metadata": {
        "id": "tJLWl_hhsvgs",
        "colab_type": "code",
        "colab": {
          "base_uri": "https://localhost:8080/",
          "height": 244
        },
        "outputId": "3946b23f-c1ae-4e61-ab72-54c01a730d27"
      },
      "source": [
        "res.head()"
      ],
      "execution_count": 114,
      "outputs": [
        {
          "output_type": "execute_result",
          "data": {
            "text/html": [
              "<div>\n",
              "<style scoped>\n",
              "    .dataframe tbody tr th:only-of-type {\n",
              "        vertical-align: middle;\n",
              "    }\n",
              "\n",
              "    .dataframe tbody tr th {\n",
              "        vertical-align: top;\n",
              "    }\n",
              "\n",
              "    .dataframe thead th {\n",
              "        text-align: right;\n",
              "    }\n",
              "</style>\n",
              "<table border=\"1\" class=\"dataframe\">\n",
              "  <thead>\n",
              "    <tr style=\"text-align: right;\">\n",
              "      <th></th>\n",
              "      <th>001fsf0</th>\n",
              "      <th>01</th>\n",
              "      <th>02</th>\n",
              "      <th>04</th>\n",
              "      <th>04jul2019</th>\n",
              "      <th>07</th>\n",
              "      <th>09</th>\n",
              "      <th>10</th>\n",
              "      <th>100</th>\n",
              "      <th>11</th>\n",
              "      <th>12</th>\n",
              "      <th>2010</th>\n",
              "      <th>2016</th>\n",
              "      <th>2019</th>\n",
              "      <th>2076</th>\n",
              "      <th>2131281223122</th>\n",
              "      <th>23</th>\n",
              "      <th>24</th>\n",
              "      <th>25</th>\n",
              "      <th>2cmp</th>\n",
              "      <th>30</th>\n",
              "      <th>3181</th>\n",
              "      <th>62616720122</th>\n",
              "      <th>80</th>\n",
              "      <th>86</th>\n",
              "      <th>90</th>\n",
              "      <th>9001</th>\n",
              "      <th>9002</th>\n",
              "      <th>9003</th>\n",
              "      <th>9004</th>\n",
              "      <th>9005</th>\n",
              "      <th>9006</th>\n",
              "      <th>9007</th>\n",
              "      <th>9009</th>\n",
              "      <th>9012</th>\n",
              "      <th>9013</th>\n",
              "      <th>9014</th>\n",
              "      <th>9016</th>\n",
              "      <th>9019</th>\n",
              "      <th>9020</th>\n",
              "      <th>...</th>\n",
              "      <th>varunix</th>\n",
              "      <th>vdi</th>\n",
              "      <th>veeam</th>\n",
              "      <th>version</th>\n",
              "      <th>via</th>\n",
              "      <th>view</th>\n",
              "      <th>virtual</th>\n",
              "      <th>vlan</th>\n",
              "      <th>vm</th>\n",
              "      <th>vmhost</th>\n",
              "      <th>vmnic3</th>\n",
              "      <th>vms</th>\n",
              "      <th>vmware</th>\n",
              "      <th>voltage</th>\n",
              "      <th>volume</th>\n",
              "      <th>vpn</th>\n",
              "      <th>vsphere</th>\n",
              "      <th>vulnerability</th>\n",
              "      <th>waiting</th>\n",
              "      <th>warn</th>\n",
              "      <th>warning</th>\n",
              "      <th>web</th>\n",
              "      <th>webportal</th>\n",
              "      <th>weekend</th>\n",
              "      <th>weekly</th>\n",
              "      <th>whenever</th>\n",
              "      <th>wifi</th>\n",
              "      <th>window</th>\n",
              "      <th>within</th>\n",
              "      <th>wmi</th>\n",
              "      <th>wms</th>\n",
              "      <th>work</th>\n",
              "      <th>working</th>\n",
              "      <th>xp12000</th>\n",
              "      <th>zero</th>\n",
              "      <th>zombie</th>\n",
              "      <th>ci_name</th>\n",
              "      <th>ag_code</th>\n",
              "      <th>num_words</th>\n",
              "      <th>bins</th>\n",
              "    </tr>\n",
              "  </thead>\n",
              "  <tbody>\n",
              "    <tr>\n",
              "      <th>0</th>\n",
              "      <td>0.0</td>\n",
              "      <td>0.0</td>\n",
              "      <td>0.0</td>\n",
              "      <td>0.0</td>\n",
              "      <td>0.0</td>\n",
              "      <td>0.0</td>\n",
              "      <td>0.0</td>\n",
              "      <td>0.0</td>\n",
              "      <td>0.0</td>\n",
              "      <td>0.0</td>\n",
              "      <td>0.0</td>\n",
              "      <td>0.0</td>\n",
              "      <td>0.0</td>\n",
              "      <td>0.0</td>\n",
              "      <td>0.0</td>\n",
              "      <td>0.0</td>\n",
              "      <td>0.0</td>\n",
              "      <td>0.0</td>\n",
              "      <td>0.0</td>\n",
              "      <td>0.0</td>\n",
              "      <td>0.0</td>\n",
              "      <td>0.0</td>\n",
              "      <td>0.0</td>\n",
              "      <td>0.0</td>\n",
              "      <td>0.0</td>\n",
              "      <td>0.0</td>\n",
              "      <td>0.0</td>\n",
              "      <td>0.0</td>\n",
              "      <td>0.0</td>\n",
              "      <td>0.0</td>\n",
              "      <td>0.0</td>\n",
              "      <td>0.0</td>\n",
              "      <td>0.0</td>\n",
              "      <td>0.0</td>\n",
              "      <td>0.0</td>\n",
              "      <td>0.0</td>\n",
              "      <td>0.0</td>\n",
              "      <td>0.0</td>\n",
              "      <td>0.0</td>\n",
              "      <td>0.0</td>\n",
              "      <td>...</td>\n",
              "      <td>0.0</td>\n",
              "      <td>0.0</td>\n",
              "      <td>0.0</td>\n",
              "      <td>0.0</td>\n",
              "      <td>0.0</td>\n",
              "      <td>0.0</td>\n",
              "      <td>0.0</td>\n",
              "      <td>0.0</td>\n",
              "      <td>0.0</td>\n",
              "      <td>0.0</td>\n",
              "      <td>0.0</td>\n",
              "      <td>0.0</td>\n",
              "      <td>0.0</td>\n",
              "      <td>0.0</td>\n",
              "      <td>0.0</td>\n",
              "      <td>0.0</td>\n",
              "      <td>0.0</td>\n",
              "      <td>0.0</td>\n",
              "      <td>0.0</td>\n",
              "      <td>0.0</td>\n",
              "      <td>0.0</td>\n",
              "      <td>0.0</td>\n",
              "      <td>0.0</td>\n",
              "      <td>0.0</td>\n",
              "      <td>0.0</td>\n",
              "      <td>0.0</td>\n",
              "      <td>0.0</td>\n",
              "      <td>0.000000</td>\n",
              "      <td>0.0</td>\n",
              "      <td>0.0</td>\n",
              "      <td>0.0</td>\n",
              "      <td>0.0</td>\n",
              "      <td>0.0</td>\n",
              "      <td>0.0</td>\n",
              "      <td>0.0</td>\n",
              "      <td>0.0</td>\n",
              "      <td>1168</td>\n",
              "      <td>18</td>\n",
              "      <td>5</td>\n",
              "      <td>5</td>\n",
              "    </tr>\n",
              "    <tr>\n",
              "      <th>1</th>\n",
              "      <td>0.0</td>\n",
              "      <td>0.0</td>\n",
              "      <td>0.0</td>\n",
              "      <td>0.0</td>\n",
              "      <td>0.0</td>\n",
              "      <td>0.0</td>\n",
              "      <td>0.0</td>\n",
              "      <td>0.0</td>\n",
              "      <td>0.0</td>\n",
              "      <td>0.0</td>\n",
              "      <td>0.0</td>\n",
              "      <td>0.0</td>\n",
              "      <td>0.0</td>\n",
              "      <td>0.0</td>\n",
              "      <td>0.0</td>\n",
              "      <td>0.0</td>\n",
              "      <td>0.0</td>\n",
              "      <td>0.0</td>\n",
              "      <td>0.0</td>\n",
              "      <td>0.0</td>\n",
              "      <td>0.0</td>\n",
              "      <td>0.0</td>\n",
              "      <td>0.0</td>\n",
              "      <td>0.0</td>\n",
              "      <td>0.0</td>\n",
              "      <td>0.0</td>\n",
              "      <td>0.0</td>\n",
              "      <td>0.0</td>\n",
              "      <td>0.0</td>\n",
              "      <td>0.0</td>\n",
              "      <td>0.0</td>\n",
              "      <td>0.0</td>\n",
              "      <td>0.0</td>\n",
              "      <td>0.0</td>\n",
              "      <td>0.0</td>\n",
              "      <td>0.0</td>\n",
              "      <td>0.0</td>\n",
              "      <td>0.0</td>\n",
              "      <td>0.0</td>\n",
              "      <td>0.0</td>\n",
              "      <td>...</td>\n",
              "      <td>0.0</td>\n",
              "      <td>0.0</td>\n",
              "      <td>0.0</td>\n",
              "      <td>0.0</td>\n",
              "      <td>0.0</td>\n",
              "      <td>0.0</td>\n",
              "      <td>0.0</td>\n",
              "      <td>0.0</td>\n",
              "      <td>0.0</td>\n",
              "      <td>0.0</td>\n",
              "      <td>0.0</td>\n",
              "      <td>0.0</td>\n",
              "      <td>0.0</td>\n",
              "      <td>0.0</td>\n",
              "      <td>0.0</td>\n",
              "      <td>0.0</td>\n",
              "      <td>0.0</td>\n",
              "      <td>0.0</td>\n",
              "      <td>0.0</td>\n",
              "      <td>0.0</td>\n",
              "      <td>0.0</td>\n",
              "      <td>0.0</td>\n",
              "      <td>0.0</td>\n",
              "      <td>0.0</td>\n",
              "      <td>0.0</td>\n",
              "      <td>0.0</td>\n",
              "      <td>0.0</td>\n",
              "      <td>0.000000</td>\n",
              "      <td>0.0</td>\n",
              "      <td>0.0</td>\n",
              "      <td>0.0</td>\n",
              "      <td>0.0</td>\n",
              "      <td>0.0</td>\n",
              "      <td>0.0</td>\n",
              "      <td>0.0</td>\n",
              "      <td>0.0</td>\n",
              "      <td>1477</td>\n",
              "      <td>1</td>\n",
              "      <td>4</td>\n",
              "      <td>5</td>\n",
              "    </tr>\n",
              "    <tr>\n",
              "      <th>2</th>\n",
              "      <td>0.0</td>\n",
              "      <td>0.0</td>\n",
              "      <td>0.0</td>\n",
              "      <td>0.0</td>\n",
              "      <td>0.0</td>\n",
              "      <td>0.0</td>\n",
              "      <td>0.0</td>\n",
              "      <td>0.0</td>\n",
              "      <td>0.0</td>\n",
              "      <td>0.0</td>\n",
              "      <td>0.0</td>\n",
              "      <td>0.0</td>\n",
              "      <td>0.0</td>\n",
              "      <td>0.0</td>\n",
              "      <td>0.0</td>\n",
              "      <td>0.0</td>\n",
              "      <td>0.0</td>\n",
              "      <td>0.0</td>\n",
              "      <td>0.0</td>\n",
              "      <td>0.0</td>\n",
              "      <td>0.0</td>\n",
              "      <td>0.0</td>\n",
              "      <td>0.0</td>\n",
              "      <td>0.0</td>\n",
              "      <td>0.0</td>\n",
              "      <td>0.0</td>\n",
              "      <td>0.0</td>\n",
              "      <td>0.0</td>\n",
              "      <td>0.0</td>\n",
              "      <td>0.0</td>\n",
              "      <td>0.0</td>\n",
              "      <td>0.0</td>\n",
              "      <td>0.0</td>\n",
              "      <td>0.0</td>\n",
              "      <td>0.0</td>\n",
              "      <td>0.0</td>\n",
              "      <td>0.0</td>\n",
              "      <td>0.0</td>\n",
              "      <td>0.0</td>\n",
              "      <td>0.0</td>\n",
              "      <td>...</td>\n",
              "      <td>0.0</td>\n",
              "      <td>0.0</td>\n",
              "      <td>0.0</td>\n",
              "      <td>0.0</td>\n",
              "      <td>0.0</td>\n",
              "      <td>0.0</td>\n",
              "      <td>0.0</td>\n",
              "      <td>0.0</td>\n",
              "      <td>0.0</td>\n",
              "      <td>0.0</td>\n",
              "      <td>0.0</td>\n",
              "      <td>0.0</td>\n",
              "      <td>0.0</td>\n",
              "      <td>0.0</td>\n",
              "      <td>0.0</td>\n",
              "      <td>0.0</td>\n",
              "      <td>0.0</td>\n",
              "      <td>0.0</td>\n",
              "      <td>0.0</td>\n",
              "      <td>0.0</td>\n",
              "      <td>0.0</td>\n",
              "      <td>0.0</td>\n",
              "      <td>0.0</td>\n",
              "      <td>0.0</td>\n",
              "      <td>0.0</td>\n",
              "      <td>0.0</td>\n",
              "      <td>0.0</td>\n",
              "      <td>0.000000</td>\n",
              "      <td>0.0</td>\n",
              "      <td>0.0</td>\n",
              "      <td>0.0</td>\n",
              "      <td>0.0</td>\n",
              "      <td>0.0</td>\n",
              "      <td>0.0</td>\n",
              "      <td>0.0</td>\n",
              "      <td>0.0</td>\n",
              "      <td>1169</td>\n",
              "      <td>19</td>\n",
              "      <td>3</td>\n",
              "      <td>5</td>\n",
              "    </tr>\n",
              "    <tr>\n",
              "      <th>3</th>\n",
              "      <td>0.0</td>\n",
              "      <td>0.0</td>\n",
              "      <td>0.0</td>\n",
              "      <td>0.0</td>\n",
              "      <td>0.0</td>\n",
              "      <td>0.0</td>\n",
              "      <td>0.0</td>\n",
              "      <td>0.0</td>\n",
              "      <td>0.0</td>\n",
              "      <td>0.0</td>\n",
              "      <td>0.0</td>\n",
              "      <td>0.0</td>\n",
              "      <td>0.0</td>\n",
              "      <td>0.0</td>\n",
              "      <td>0.0</td>\n",
              "      <td>0.0</td>\n",
              "      <td>0.0</td>\n",
              "      <td>0.0</td>\n",
              "      <td>0.0</td>\n",
              "      <td>0.0</td>\n",
              "      <td>0.0</td>\n",
              "      <td>0.0</td>\n",
              "      <td>0.0</td>\n",
              "      <td>0.0</td>\n",
              "      <td>0.0</td>\n",
              "      <td>0.0</td>\n",
              "      <td>0.0</td>\n",
              "      <td>0.0</td>\n",
              "      <td>0.0</td>\n",
              "      <td>0.0</td>\n",
              "      <td>0.0</td>\n",
              "      <td>0.0</td>\n",
              "      <td>0.0</td>\n",
              "      <td>0.0</td>\n",
              "      <td>0.0</td>\n",
              "      <td>0.0</td>\n",
              "      <td>0.0</td>\n",
              "      <td>0.0</td>\n",
              "      <td>0.0</td>\n",
              "      <td>0.0</td>\n",
              "      <td>...</td>\n",
              "      <td>0.0</td>\n",
              "      <td>0.0</td>\n",
              "      <td>0.0</td>\n",
              "      <td>0.0</td>\n",
              "      <td>0.0</td>\n",
              "      <td>0.0</td>\n",
              "      <td>0.0</td>\n",
              "      <td>0.0</td>\n",
              "      <td>0.0</td>\n",
              "      <td>0.0</td>\n",
              "      <td>0.0</td>\n",
              "      <td>0.0</td>\n",
              "      <td>0.0</td>\n",
              "      <td>0.0</td>\n",
              "      <td>0.0</td>\n",
              "      <td>0.0</td>\n",
              "      <td>0.0</td>\n",
              "      <td>0.0</td>\n",
              "      <td>0.0</td>\n",
              "      <td>0.0</td>\n",
              "      <td>0.0</td>\n",
              "      <td>0.0</td>\n",
              "      <td>0.0</td>\n",
              "      <td>0.0</td>\n",
              "      <td>0.0</td>\n",
              "      <td>0.0</td>\n",
              "      <td>0.0</td>\n",
              "      <td>0.282779</td>\n",
              "      <td>0.0</td>\n",
              "      <td>0.0</td>\n",
              "      <td>0.0</td>\n",
              "      <td>0.0</td>\n",
              "      <td>0.0</td>\n",
              "      <td>0.0</td>\n",
              "      <td>0.0</td>\n",
              "      <td>0.0</td>\n",
              "      <td>1749</td>\n",
              "      <td>19</td>\n",
              "      <td>10</td>\n",
              "      <td>10</td>\n",
              "    </tr>\n",
              "    <tr>\n",
              "      <th>4</th>\n",
              "      <td>0.0</td>\n",
              "      <td>0.0</td>\n",
              "      <td>0.0</td>\n",
              "      <td>0.0</td>\n",
              "      <td>0.0</td>\n",
              "      <td>0.0</td>\n",
              "      <td>0.0</td>\n",
              "      <td>0.0</td>\n",
              "      <td>0.0</td>\n",
              "      <td>0.0</td>\n",
              "      <td>0.0</td>\n",
              "      <td>0.0</td>\n",
              "      <td>0.0</td>\n",
              "      <td>0.0</td>\n",
              "      <td>0.0</td>\n",
              "      <td>0.0</td>\n",
              "      <td>0.0</td>\n",
              "      <td>0.0</td>\n",
              "      <td>0.0</td>\n",
              "      <td>0.0</td>\n",
              "      <td>0.0</td>\n",
              "      <td>0.0</td>\n",
              "      <td>0.0</td>\n",
              "      <td>0.0</td>\n",
              "      <td>0.0</td>\n",
              "      <td>0.0</td>\n",
              "      <td>0.0</td>\n",
              "      <td>0.0</td>\n",
              "      <td>0.0</td>\n",
              "      <td>0.0</td>\n",
              "      <td>0.0</td>\n",
              "      <td>0.0</td>\n",
              "      <td>0.0</td>\n",
              "      <td>0.0</td>\n",
              "      <td>0.0</td>\n",
              "      <td>0.0</td>\n",
              "      <td>0.0</td>\n",
              "      <td>0.0</td>\n",
              "      <td>0.0</td>\n",
              "      <td>0.0</td>\n",
              "      <td>...</td>\n",
              "      <td>0.0</td>\n",
              "      <td>0.0</td>\n",
              "      <td>0.0</td>\n",
              "      <td>0.0</td>\n",
              "      <td>0.0</td>\n",
              "      <td>0.0</td>\n",
              "      <td>0.0</td>\n",
              "      <td>0.0</td>\n",
              "      <td>0.0</td>\n",
              "      <td>0.0</td>\n",
              "      <td>0.0</td>\n",
              "      <td>0.0</td>\n",
              "      <td>0.0</td>\n",
              "      <td>0.0</td>\n",
              "      <td>0.0</td>\n",
              "      <td>0.0</td>\n",
              "      <td>0.0</td>\n",
              "      <td>0.0</td>\n",
              "      <td>0.0</td>\n",
              "      <td>0.0</td>\n",
              "      <td>0.0</td>\n",
              "      <td>0.0</td>\n",
              "      <td>0.0</td>\n",
              "      <td>0.0</td>\n",
              "      <td>0.0</td>\n",
              "      <td>0.0</td>\n",
              "      <td>0.0</td>\n",
              "      <td>0.000000</td>\n",
              "      <td>0.0</td>\n",
              "      <td>0.0</td>\n",
              "      <td>0.0</td>\n",
              "      <td>0.0</td>\n",
              "      <td>0.0</td>\n",
              "      <td>0.0</td>\n",
              "      <td>0.0</td>\n",
              "      <td>0.0</td>\n",
              "      <td>1790</td>\n",
              "      <td>13</td>\n",
              "      <td>9</td>\n",
              "      <td>10</td>\n",
              "    </tr>\n",
              "  </tbody>\n",
              "</table>\n",
              "<p>5 rows × 1004 columns</p>\n",
              "</div>"
            ],
            "text/plain": [
              "   001fsf0   01   02   04  04jul2019  ...  zombie  ci_name  ag_code  num_words  bins\n",
              "0      0.0  0.0  0.0  0.0        0.0  ...     0.0     1168       18          5     5\n",
              "1      0.0  0.0  0.0  0.0        0.0  ...     0.0     1477        1          4     5\n",
              "2      0.0  0.0  0.0  0.0        0.0  ...     0.0     1169       19          3     5\n",
              "3      0.0  0.0  0.0  0.0        0.0  ...     0.0     1749       19         10    10\n",
              "4      0.0  0.0  0.0  0.0        0.0  ...     0.0     1790       13          9    10\n",
              "\n",
              "[5 rows x 1004 columns]"
            ]
          },
          "metadata": {
            "tags": []
          },
          "execution_count": 114
        }
      ]
    },
    {
      "cell_type": "code",
      "metadata": {
        "id": "vRCJkQXtsxcM",
        "colab_type": "code",
        "colab": {}
      },
      "source": [
        "sentences_train, sentences_test, y_train, y_test = train_test_split(res,  y, test_size=0.10)"
      ],
      "execution_count": 0,
      "outputs": []
    },
    {
      "cell_type": "code",
      "metadata": {
        "id": "3_oYtpC9tSaD",
        "colab_type": "code",
        "colab": {}
      },
      "source": [
        "input_dim = sentences_train.shape[1]"
      ],
      "execution_count": 0,
      "outputs": []
    },
    {
      "cell_type": "code",
      "metadata": {
        "id": "TklxtLF9t-pw",
        "colab_type": "code",
        "colab": {}
      },
      "source": [
        "y_train = utils.to_categorical(y_train, num_class)\n",
        "y_test = utils.to_categorical(y_test, num_class)"
      ],
      "execution_count": 0,
      "outputs": []
    },
    {
      "cell_type": "code",
      "metadata": {
        "id": "CCahoDb6tUbD",
        "colab_type": "code",
        "colab": {
          "base_uri": "https://localhost:8080/",
          "height": 334
        },
        "outputId": "50be1e23-073a-47dc-d48a-d577fa5d256c"
      },
      "source": [
        "\n",
        "\n",
        "model = Sequential()\n",
        "model.add(layers.Dense(32, activation='relu', input_dim=input_dim))\n",
        "model.add(layers.Dense(16, activation='relu'))\n",
        "model.add(layers.Dense(16, activation='relu'))\n",
        "model.add(layers.Dense(16, activation='relu'))\n",
        "model.add(layers.Dense(num_class, activation='softmax'))\n",
        "model.compile(optimizer='adam',\n",
        "              loss='categorical_crossentropy',\n",
        "              metrics=['accuracy'])\n",
        "model.summary()"
      ],
      "execution_count": 132,
      "outputs": [
        {
          "output_type": "stream",
          "text": [
            "Model: \"sequential_10\"\n",
            "_________________________________________________________________\n",
            "Layer (type)                 Output Shape              Param #   \n",
            "=================================================================\n",
            "dense_39 (Dense)             (None, 32)                32160     \n",
            "_________________________________________________________________\n",
            "dense_40 (Dense)             (None, 16)                528       \n",
            "_________________________________________________________________\n",
            "dense_41 (Dense)             (None, 16)                272       \n",
            "_________________________________________________________________\n",
            "dense_42 (Dense)             (None, 16)                272       \n",
            "_________________________________________________________________\n",
            "dense_43 (Dense)             (None, 20)                340       \n",
            "=================================================================\n",
            "Total params: 33,572\n",
            "Trainable params: 33,572\n",
            "Non-trainable params: 0\n",
            "_________________________________________________________________\n"
          ],
          "name": "stdout"
        }
      ]
    },
    {
      "cell_type": "code",
      "metadata": {
        "id": "CJBuc9PIti9_",
        "colab_type": "code",
        "colab": {}
      },
      "source": [
        "\n",
        "callback = tf.keras.callbacks.EarlyStopping(monitor='val_loss', patience=3)\n",
        "history = model.fit(sentences_train, y_train,\n",
        "                    epochs=100,\n",
        "                    verbose=False,\n",
        "                    validation_data=(sentences_test, y_test),\n",
        "                    batch_size=10,callbacks=[callback])\n"
      ],
      "execution_count": 0,
      "outputs": []
    },
    {
      "cell_type": "code",
      "metadata": {
        "id": "i_CaFMrSttzd",
        "colab_type": "code",
        "colab": {
          "base_uri": "https://localhost:8080/",
          "height": 52
        },
        "outputId": "dc5a3226-3486-46d3-fb51-c376447ad226"
      },
      "source": [
        "loss, accuracy = model.evaluate(sentences_train, y_train, verbose=False)\n",
        "print(\"Training Accuracy:{:.4f}\".format(accuracy))\n",
        "loss, accuracy = model.evaluate(sentences_test, y_test, verbose=False)\n",
        "print(\"Testing Accuracy:{:.4f}\".format(accuracy))"
      ],
      "execution_count": 134,
      "outputs": [
        {
          "output_type": "stream",
          "text": [
            "Training Accuracy:0.9033\n",
            "Testing Accuracy:0.8803\n"
          ],
          "name": "stdout"
        }
      ]
    },
    {
      "cell_type": "code",
      "metadata": {
        "id": "7LwRJch0vsAM",
        "colab_type": "code",
        "colab": {
          "base_uri": "https://localhost:8080/",
          "height": 334
        },
        "outputId": "f336e22f-fa0a-4bcf-e9c9-46897e37e138"
      },
      "source": [
        "inputs = Input(shape=(input_dim, ))\n",
        "embedding_layer = Embedding(2000,\n",
        "                            128,\n",
        "                            input_length=input_dim)(inputs)\n",
        "x = Flatten()(embedding_layer)\n",
        "x = Dense(32, activation='relu')(x)\n",
        "\n",
        "predictions = Dense(num_class, activation='softmax')(x)\n",
        "model = Model(inputs=[inputs], outputs=predictions)\n",
        "model.compile(optimizer='adam',\n",
        "              loss='categorical_crossentropy',\n",
        "              metrics=['acc'])\n",
        "\n",
        "model.summary()\n",
        "#filepath=\"weights-simple.hdf5\"\n",
        "#checkpointer = ModelCheckpoint(filepath, monitor='val_acc', verbose=1, save_best_only=True, mode='max')\n",
        "history = model.fit(sentences_train, y_train,\n",
        "                    epochs=100,\n",
        "                    verbose=False,\n",
        "                    validation_data=(sentences_test, y_test),\n",
        "                    batch_size=10,callbacks=[callback])"
      ],
      "execution_count": 145,
      "outputs": [
        {
          "output_type": "stream",
          "text": [
            "Model: \"model_5\"\n",
            "_________________________________________________________________\n",
            "Layer (type)                 Output Shape              Param #   \n",
            "=================================================================\n",
            "input_5 (InputLayer)         (None, 1004)              0         \n",
            "_________________________________________________________________\n",
            "embedding_5 (Embedding)      (None, 1004, 128)         256000    \n",
            "_________________________________________________________________\n",
            "flatten_5 (Flatten)          (None, 128512)            0         \n",
            "_________________________________________________________________\n",
            "dense_52 (Dense)             (None, 32)                4112416   \n",
            "_________________________________________________________________\n",
            "dense_53 (Dense)             (None, 20)                660       \n",
            "=================================================================\n",
            "Total params: 4,369,076\n",
            "Trainable params: 4,369,076\n",
            "Non-trainable params: 0\n",
            "_________________________________________________________________\n"
          ],
          "name": "stdout"
        }
      ]
    },
    {
      "cell_type": "code",
      "metadata": {
        "id": "jdou6Nh-092P",
        "colab_type": "code",
        "colab": {
          "base_uri": "https://localhost:8080/",
          "height": 52
        },
        "outputId": "d60d121f-cf9e-46af-8572-294ec7e5fe4c"
      },
      "source": [
        "loss, accuracy = model.evaluate(sentences_train, y_train, verbose=False)\n",
        "print(\"Training Accuracy:{:.4f}\".format(accuracy))\n",
        "loss, accuracy = model.evaluate(sentences_test, y_test, verbose=False)\n",
        "print(\"Testing Accuracy:{:.4f}\".format(accuracy))"
      ],
      "execution_count": 146,
      "outputs": [
        {
          "output_type": "stream",
          "text": [
            "Training Accuracy:0.9999\n",
            "Testing Accuracy:0.9990\n"
          ],
          "name": "stdout"
        }
      ]
    },
    {
      "cell_type": "code",
      "metadata": {
        "id": "VThPuAOs4abk",
        "colab_type": "code",
        "colab": {}
      },
      "source": [
        ""
      ],
      "execution_count": 0,
      "outputs": []
    }
  ]
}